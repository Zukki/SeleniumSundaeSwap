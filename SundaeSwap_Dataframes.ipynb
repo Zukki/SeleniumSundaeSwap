{
 "cells": [
  {
   "cell_type": "code",
   "execution_count": 194,
   "metadata": {},
   "outputs": [],
   "source": [
    "import pandas as pd\n",
    "import numpy as np\n",
    "import time\n",
    "from datetime import date, datetime\n",
    "import calendar\n",
    "import os\n"
   ]
  },
  {
   "cell_type": "markdown",
   "metadata": {},
   "source": [
    "# DEFINE GLOBAL VARIABLES"
   ]
  },
  {
   "cell_type": "code",
   "execution_count": 195,
   "metadata": {},
   "outputs": [],
   "source": [
    "SAVE_CALCULATED_DF = True\n",
    "SAVE_CALCULATED_DF_PATH_BASE_FOLDER = 'D:\\ICARO\\Proyectos\\SeleniumSundaeSwap\\Calculated'\n",
    "SAVE_CALCULATED_DF_PATH_BASE_FILENAME = 'sundaeswap_calculated.csv'\n",
    "SAVE_CALCULATED_SMALL_DF_PATH_BASE_FILENAME = 'sundaeswap_calculated_small.csv'\n",
    "SCRAPPED_FOLDER_PATH = 'D:\\ICARO\\Proyectos\\SeleniumSundaeSwap\\Scrapped'\n",
    "SCRAPPED_BASE_FILENAME = 'sundaeswap_scrapped_'\n",
    "SCRAPPED_ASSET_LIST_FILE = 'sundaeswap_asset_list.csv'\n"
   ]
  },
  {
   "cell_type": "markdown",
   "metadata": {},
   "source": [
    "# GENERATE DATAFRAME"
   ]
  },
  {
   "cell_type": "markdown",
   "metadata": {},
   "source": [
    "## LOAD ASSET LIST"
   ]
  },
  {
   "cell_type": "code",
   "execution_count": 196,
   "metadata": {},
   "outputs": [
    {
     "data": {
      "text/html": [
       "<div>\n",
       "<style scoped>\n",
       "    .dataframe tbody tr th:only-of-type {\n",
       "        vertical-align: middle;\n",
       "    }\n",
       "\n",
       "    .dataframe tbody tr th {\n",
       "        vertical-align: top;\n",
       "    }\n",
       "\n",
       "    .dataframe thead th {\n",
       "        text-align: right;\n",
       "    }\n",
       "</style>\n",
       "<table border=\"1\" class=\"dataframe\">\n",
       "  <thead>\n",
       "    <tr style=\"text-align: right;\">\n",
       "      <th></th>\n",
       "      <th>Pair</th>\n",
       "      <th>LpFee</th>\n",
       "    </tr>\n",
       "  </thead>\n",
       "  <tbody>\n",
       "    <tr>\n",
       "      <th>0</th>\n",
       "      <td>AADA/ADA</td>\n",
       "      <td>0.3</td>\n",
       "    </tr>\n",
       "    <tr>\n",
       "      <th>1</th>\n",
       "      <td>ADAX/ADA</td>\n",
       "      <td>0.3</td>\n",
       "    </tr>\n",
       "    <tr>\n",
       "      <th>2</th>\n",
       "      <td>ASHIB/ADA</td>\n",
       "      <td>1.0</td>\n",
       "    </tr>\n",
       "  </tbody>\n",
       "</table>\n",
       "</div>"
      ],
      "text/plain": [
       "        Pair  LpFee\n",
       "0   AADA/ADA    0.3\n",
       "1   ADAX/ADA    0.3\n",
       "2  ASHIB/ADA    1.0"
      ]
     },
     "execution_count": 196,
     "metadata": {},
     "output_type": "execute_result"
    }
   ],
   "source": [
    "dfAssetList = pd.read_csv(SCRAPPED_FOLDER_PATH+'\\\\'+SCRAPPED_ASSET_LIST_FILE)\n",
    "dfAssetList.head(3)"
   ]
  },
  {
   "cell_type": "markdown",
   "metadata": {},
   "source": [
    "## LOAD SCRAPPED FILES"
   ]
  },
  {
   "cell_type": "code",
   "execution_count": 197,
   "metadata": {},
   "outputs": [
    {
     "name": "stdout",
     "output_type": "stream",
     "text": [
      "Dataframe loaded\n"
     ]
    }
   ],
   "source": [
    "files = os.listdir(SCRAPPED_FOLDER_PATH)\n",
    "# list(files)\n",
    "\n",
    "df = pd.DataFrame()\n",
    "\n",
    "for file in files:\n",
    "    if file.__contains__(SCRAPPED_BASE_FILENAME):\n",
    "        try:\n",
    "            # print('Found:', file)\n",
    "            dfFound = pd.read_csv(SCRAPPED_FOLDER_PATH+'\\\\'+file, parse_dates=True, decimal='.')\n",
    "            df = df.append(dfFound, ignore_index=True)\n",
    "        except:\n",
    "            print('Error loading:', file)\n",
    "\n",
    "print('Dataframe loaded')\n"
   ]
  },
  {
   "cell_type": "code",
   "execution_count": 198,
   "metadata": {},
   "outputs": [
    {
     "data": {
      "text/html": [
       "<div>\n",
       "<style scoped>\n",
       "    .dataframe tbody tr th:only-of-type {\n",
       "        vertical-align: middle;\n",
       "    }\n",
       "\n",
       "    .dataframe tbody tr th {\n",
       "        vertical-align: top;\n",
       "    }\n",
       "\n",
       "    .dataframe thead th {\n",
       "        text-align: right;\n",
       "    }\n",
       "</style>\n",
       "<table border=\"1\" class=\"dataframe\">\n",
       "  <thead>\n",
       "    <tr style=\"text-align: right;\">\n",
       "      <th></th>\n",
       "      <th>Pair</th>\n",
       "      <th>LpFee</th>\n",
       "      <th>PairPrice</th>\n",
       "      <th>TotalAssetLocked</th>\n",
       "      <th>TotalAdaLocked</th>\n",
       "      <th>AdaVolume24hs</th>\n",
       "      <th>DateTime</th>\n",
       "      <th>Date</th>\n",
       "      <th>Time</th>\n",
       "      <th>MinuteOfDay</th>\n",
       "    </tr>\n",
       "  </thead>\n",
       "  <tbody>\n",
       "    <tr>\n",
       "      <th>0</th>\n",
       "      <td>SUNDAE/ADA</td>\n",
       "      <td>0.3</td>\n",
       "      <td>0.656333</td>\n",
       "      <td>18,959,279.47</td>\n",
       "      <td>12,443,603.15</td>\n",
       "      <td>815,402.19</td>\n",
       "      <td>2022-02-08 20:11:21.366693</td>\n",
       "      <td>2022-02-08</td>\n",
       "      <td>20:11:21</td>\n",
       "      <td>1211</td>\n",
       "    </tr>\n",
       "    <tr>\n",
       "      <th>1</th>\n",
       "      <td>LQ/ADA</td>\n",
       "      <td>0.3</td>\n",
       "      <td>73.940162</td>\n",
       "      <td>116,968.87</td>\n",
       "      <td>8,648,697.29</td>\n",
       "      <td>902,727.21</td>\n",
       "      <td>2022-02-08 20:11:21.366693</td>\n",
       "      <td>2022-02-08</td>\n",
       "      <td>20:11:21</td>\n",
       "      <td>1211</td>\n",
       "    </tr>\n",
       "    <tr>\n",
       "      <th>2</th>\n",
       "      <td>WMT/ADA</td>\n",
       "      <td>0.3</td>\n",
       "      <td>0.668082</td>\n",
       "      <td>8,634,990.95</td>\n",
       "      <td>5,768,885.35</td>\n",
       "      <td>653,021.69</td>\n",
       "      <td>2022-02-08 20:11:21.366693</td>\n",
       "      <td>2022-02-08</td>\n",
       "      <td>20:11:21</td>\n",
       "      <td>1211</td>\n",
       "    </tr>\n",
       "    <tr>\n",
       "      <th>3</th>\n",
       "      <td>PAVIA/ADA</td>\n",
       "      <td>0.3</td>\n",
       "      <td>0.106211</td>\n",
       "      <td>11,930,680</td>\n",
       "      <td>1,267,174.93</td>\n",
       "      <td>136,408.23</td>\n",
       "      <td>2022-02-08 20:11:21.366693</td>\n",
       "      <td>2022-02-08</td>\n",
       "      <td>20:11:21</td>\n",
       "      <td>1211</td>\n",
       "    </tr>\n",
       "    <tr>\n",
       "      <th>4</th>\n",
       "      <td>XRAY/ADA</td>\n",
       "      <td>0.3</td>\n",
       "      <td>0.166781</td>\n",
       "      <td>6,105,011</td>\n",
       "      <td>1,018,205.01</td>\n",
       "      <td>154,472.07</td>\n",
       "      <td>2022-02-08 20:11:21.366693</td>\n",
       "      <td>2022-02-08</td>\n",
       "      <td>20:11:21</td>\n",
       "      <td>1211</td>\n",
       "    </tr>\n",
       "  </tbody>\n",
       "</table>\n",
       "</div>"
      ],
      "text/plain": [
       "         Pair  LpFee  PairPrice TotalAssetLocked TotalAdaLocked AdaVolume24hs  \\\n",
       "0  SUNDAE/ADA    0.3   0.656333    18,959,279.47  12,443,603.15    815,402.19   \n",
       "1      LQ/ADA    0.3  73.940162       116,968.87   8,648,697.29    902,727.21   \n",
       "2     WMT/ADA    0.3   0.668082     8,634,990.95   5,768,885.35    653,021.69   \n",
       "3   PAVIA/ADA    0.3   0.106211       11,930,680   1,267,174.93    136,408.23   \n",
       "4    XRAY/ADA    0.3   0.166781        6,105,011   1,018,205.01    154,472.07   \n",
       "\n",
       "                     DateTime        Date      Time  MinuteOfDay  \n",
       "0  2022-02-08 20:11:21.366693  2022-02-08  20:11:21         1211  \n",
       "1  2022-02-08 20:11:21.366693  2022-02-08  20:11:21         1211  \n",
       "2  2022-02-08 20:11:21.366693  2022-02-08  20:11:21         1211  \n",
       "3  2022-02-08 20:11:21.366693  2022-02-08  20:11:21         1211  \n",
       "4  2022-02-08 20:11:21.366693  2022-02-08  20:11:21         1211  "
      ]
     },
     "execution_count": 198,
     "metadata": {},
     "output_type": "execute_result"
    }
   ],
   "source": [
    "df.head(5)"
   ]
  },
  {
   "cell_type": "code",
   "execution_count": 199,
   "metadata": {},
   "outputs": [
    {
     "data": {
      "text/html": [
       "<div>\n",
       "<style scoped>\n",
       "    .dataframe tbody tr th:only-of-type {\n",
       "        vertical-align: middle;\n",
       "    }\n",
       "\n",
       "    .dataframe tbody tr th {\n",
       "        vertical-align: top;\n",
       "    }\n",
       "\n",
       "    .dataframe thead th {\n",
       "        text-align: right;\n",
       "    }\n",
       "</style>\n",
       "<table border=\"1\" class=\"dataframe\">\n",
       "  <thead>\n",
       "    <tr style=\"text-align: right;\">\n",
       "      <th></th>\n",
       "      <th>Pair</th>\n",
       "      <th>LpFee</th>\n",
       "      <th>PairPrice</th>\n",
       "      <th>TotalAssetLocked</th>\n",
       "      <th>TotalAdaLocked</th>\n",
       "      <th>AdaVolume24hs</th>\n",
       "      <th>DateTime</th>\n",
       "      <th>Date</th>\n",
       "      <th>Time</th>\n",
       "      <th>MinuteOfDay</th>\n",
       "    </tr>\n",
       "  </thead>\n",
       "  <tbody>\n",
       "    <tr>\n",
       "      <th>11349</th>\n",
       "      <td>cbTHC/ADA</td>\n",
       "      <td>0.3</td>\n",
       "      <td>0.046783</td>\n",
       "      <td>201,382.97</td>\n",
       "      <td>9,421.46</td>\n",
       "      <td>NaN</td>\n",
       "      <td>2022-02-15 15:30:41.744022</td>\n",
       "      <td>2022-02-15</td>\n",
       "      <td>15:30:41</td>\n",
       "      <td>930</td>\n",
       "    </tr>\n",
       "  </tbody>\n",
       "</table>\n",
       "</div>"
      ],
      "text/plain": [
       "            Pair  LpFee  PairPrice TotalAssetLocked TotalAdaLocked  \\\n",
       "11349  cbTHC/ADA    0.3   0.046783       201,382.97       9,421.46   \n",
       "\n",
       "      AdaVolume24hs                    DateTime        Date      Time  \\\n",
       "11349           NaN  2022-02-15 15:30:41.744022  2022-02-15  15:30:41   \n",
       "\n",
       "       MinuteOfDay  \n",
       "11349          930  "
      ]
     },
     "execution_count": 199,
     "metadata": {},
     "output_type": "execute_result"
    }
   ],
   "source": [
    "df.tail(1)"
   ]
  },
  {
   "cell_type": "markdown",
   "metadata": {},
   "source": [
    "## CONVERT AND CALCULATE"
   ]
  },
  {
   "cell_type": "markdown",
   "metadata": {},
   "source": [
    "### Convert DateTime column"
   ]
  },
  {
   "cell_type": "code",
   "execution_count": 200,
   "metadata": {},
   "outputs": [
    {
     "name": "stdout",
     "output_type": "stream",
     "text": [
      "<class 'pandas.core.frame.DataFrame'>\n",
      "RangeIndex: 11350 entries, 0 to 11349\n",
      "Data columns (total 10 columns):\n",
      " #   Column            Non-Null Count  Dtype         \n",
      "---  ------            --------------  -----         \n",
      " 0   Pair              11350 non-null  object        \n",
      " 1   LpFee             11350 non-null  float64       \n",
      " 2   PairPrice         11350 non-null  float64       \n",
      " 3   TotalAssetLocked  11350 non-null  object        \n",
      " 4   TotalAdaLocked    11350 non-null  object        \n",
      " 5   AdaVolume24hs     9343 non-null   object        \n",
      " 6   DateTime          11350 non-null  datetime64[ns]\n",
      " 7   Date              11350 non-null  object        \n",
      " 8   Time              11350 non-null  object        \n",
      " 9   MinuteOfDay       11350 non-null  int64         \n",
      "dtypes: datetime64[ns](1), float64(2), int64(1), object(6)\n",
      "memory usage: 886.8+ KB\n"
     ]
    }
   ],
   "source": [
    "df['DateTime'] = pd.to_datetime(df['DateTime'])\n",
    "df.info()"
   ]
  },
  {
   "cell_type": "code",
   "execution_count": 201,
   "metadata": {},
   "outputs": [],
   "source": [
    "# d = date(2011, 1, 1)\n",
    "# print(type(d))\n",
    "# print(d.timetuple())\n",
    "# unixtime = time.mktime(d.timetuple())\n",
    "# unixtime\n",
    "\n",
    "def getUnixDatetime(datetime: datetime):\n",
    "    unixtime = time.mktime(datetime.timetuple())\n",
    "    return '{:.0f}'.format(unixtime)\n",
    "\n",
    "df['DateTimeUnix'] = df['DateTime'].apply(getUnixDatetime)\n",
    "# https://www.unixtimestamp.com/"
   ]
  },
  {
   "cell_type": "code",
   "execution_count": 202,
   "metadata": {},
   "outputs": [],
   "source": [
    "def stringToFloat(strValue):\n",
    "    if (type(strValue) == float):\n",
    "        # print(f'Already float {strValue}')\n",
    "        return strValue\n",
    "    else:\n",
    "        if (strValue == '0'):\n",
    "            print('found 0')\n",
    "            return float(0)\n",
    "        try:\n",
    "            newVal = strValue.replace(',','')\n",
    "            return float(newVal)\n",
    "        except:\n",
    "            # print(f'Error stringToFloat for {strValue}, returning 0')\n",
    "            return float(0)\n",
    "    \n",
    "df['TotalAssetLocked'] = df['TotalAssetLocked'].fillna(0)\n",
    "df['TotalAdaLocked'] = df['TotalAdaLocked'].fillna(0)\n",
    "df['AdaVolume24hs'] = df['AdaVolume24hs'].fillna(0)\n",
    "\n",
    "df['TotalAssetLocked'] = df['TotalAssetLocked'].apply(stringToFloat)\n",
    "df['TotalAdaLocked'] = df['TotalAdaLocked'].apply(stringToFloat)\n",
    "df['AdaVolume24hs'] = df['AdaVolume24hs'].apply(stringToFloat)"
   ]
  },
  {
   "cell_type": "code",
   "execution_count": 203,
   "metadata": {},
   "outputs": [
    {
     "name": "stdout",
     "output_type": "stream",
     "text": [
      "<class 'pandas.core.frame.DataFrame'>\n",
      "RangeIndex: 11350 entries, 0 to 11349\n",
      "Data columns (total 11 columns):\n",
      " #   Column            Non-Null Count  Dtype         \n",
      "---  ------            --------------  -----         \n",
      " 0   Pair              11350 non-null  object        \n",
      " 1   LpFee             11350 non-null  float64       \n",
      " 2   PairPrice         11350 non-null  float64       \n",
      " 3   TotalAssetLocked  11350 non-null  float64       \n",
      " 4   TotalAdaLocked    11350 non-null  float64       \n",
      " 5   AdaVolume24hs     11350 non-null  float64       \n",
      " 6   DateTime          11350 non-null  datetime64[ns]\n",
      " 7   Date              11350 non-null  object        \n",
      " 8   Time              11350 non-null  object        \n",
      " 9   MinuteOfDay       11350 non-null  int64         \n",
      " 10  DateTimeUnix      11350 non-null  object        \n",
      "dtypes: datetime64[ns](1), float64(5), int64(1), object(4)\n",
      "memory usage: 975.5+ KB\n"
     ]
    }
   ],
   "source": [
    "df.info()"
   ]
  },
  {
   "cell_type": "markdown",
   "metadata": {},
   "source": [
    "### Calculate unique pair lp id"
   ]
  },
  {
   "cell_type": "code",
   "execution_count": 204,
   "metadata": {},
   "outputs": [],
   "source": [
    "unique = df[\"Pair\"] + '_'+ df[\"LpFee\"].astype(str)\n",
    "df['_PAIR_ID'] = unique\n",
    "# df['_PAIR_ID'].unique()"
   ]
  },
  {
   "cell_type": "markdown",
   "metadata": {},
   "source": [
    "### Calculate deltas"
   ]
  },
  {
   "cell_type": "code",
   "execution_count": 205,
   "metadata": {},
   "outputs": [],
   "source": [
    "# FILTER_PAIR = 'MIN/ADA'\n",
    "# FILTER_PAIR_LP_FEE = 0.3\n",
    "# FILTER_PAIR_ID = FILTER_PAIR + '_'+ str(FILTER_PAIR_LP_FEE)\n",
    "# filterAsset = df['_PAIR_ID'] == FILTER_PAIR_ID\n",
    "# # from numpy_ext import rolling_apply\n",
    "# def tryDelta(dfd: pd.DataFrame):\n",
    "#     #diffs_a = pd.rolling_apply(dfd['PairPrice'], 2, lambda x: x[0] - x[1])\n",
    "#     print(dfd.rolling(1)['PairPrice'])\n",
    "    \n",
    "\n",
    "# tryDelta(df[filterAsset])"
   ]
  },
  {
   "cell_type": "code",
   "execution_count": 206,
   "metadata": {},
   "outputs": [],
   "source": [
    "# dif = df[filterAsset].groupby('_PAIR_ID')['PairPrice'].diff()\n",
    "df['_DELTA_PAIRPRICE'] = df.groupby('_PAIR_ID')['PairPrice'].diff()\n",
    "df['_DELTA_TOTALASSETLOCKED'] = df.groupby('_PAIR_ID')['TotalAssetLocked'].diff()\n",
    "df['_DELTA_TOTALADALOCKED'] = df.groupby('_PAIR_ID')['TotalAdaLocked'].diff()\n",
    "\n",
    "df['_DELTA_DATETIME_SECONDS'] = df.groupby('_PAIR_ID')['DateTime'].diff().dt.seconds\n",
    "df['_DELTA_DATETIME_MINUTES'] = df.groupby('_PAIR_ID')['DateTime'].diff().dt.seconds/60"
   ]
  },
  {
   "cell_type": "markdown",
   "metadata": {},
   "source": [
    "## GENERATE SMALL VERSION"
   ]
  },
  {
   "cell_type": "code",
   "execution_count": 211,
   "metadata": {},
   "outputs": [
    {
     "data": {
      "text/html": [
       "<div>\n",
       "<style scoped>\n",
       "    .dataframe tbody tr th:only-of-type {\n",
       "        vertical-align: middle;\n",
       "    }\n",
       "\n",
       "    .dataframe tbody tr th {\n",
       "        vertical-align: top;\n",
       "    }\n",
       "\n",
       "    .dataframe thead th {\n",
       "        text-align: right;\n",
       "    }\n",
       "</style>\n",
       "<table border=\"1\" class=\"dataframe\">\n",
       "  <thead>\n",
       "    <tr style=\"text-align: right;\">\n",
       "      <th></th>\n",
       "      <th>PairPrice</th>\n",
       "      <th>TotalAssetLocked</th>\n",
       "      <th>TotalAdaLocked</th>\n",
       "      <th>AdaVolume24hs</th>\n",
       "      <th>DateTimeUnix</th>\n",
       "      <th>_PAIR_ID</th>\n",
       "      <th>_DELTA_PAIRPRICE</th>\n",
       "      <th>_DELTA_TOTALASSETLOCKED</th>\n",
       "      <th>_DELTA_TOTALADALOCKED</th>\n",
       "      <th>_DELTA_DATETIME_SECONDS</th>\n",
       "    </tr>\n",
       "  </thead>\n",
       "  <tbody>\n",
       "    <tr>\n",
       "      <th>11349</th>\n",
       "      <td>0.046783</td>\n",
       "      <td>201382.97</td>\n",
       "      <td>9421.46</td>\n",
       "      <td>0.0</td>\n",
       "      <td>1644949841</td>\n",
       "      <td>cbTHC/ADA_0.3</td>\n",
       "      <td>0.0</td>\n",
       "      <td>0.0</td>\n",
       "      <td>0.0</td>\n",
       "      <td>900.0</td>\n",
       "    </tr>\n",
       "  </tbody>\n",
       "</table>\n",
       "</div>"
      ],
      "text/plain": [
       "       PairPrice  TotalAssetLocked  TotalAdaLocked  AdaVolume24hs  \\\n",
       "11349   0.046783         201382.97         9421.46            0.0   \n",
       "\n",
       "      DateTimeUnix       _PAIR_ID  _DELTA_PAIRPRICE  _DELTA_TOTALASSETLOCKED  \\\n",
       "11349   1644949841  cbTHC/ADA_0.3               0.0                      0.0   \n",
       "\n",
       "       _DELTA_TOTALADALOCKED  _DELTA_DATETIME_SECONDS  \n",
       "11349                    0.0                    900.0  "
      ]
     },
     "execution_count": 211,
     "metadata": {},
     "output_type": "execute_result"
    }
   ],
   "source": [
    "dfsmall = df.copy()\n",
    "dfsmall.drop(axis=1, columns= ['Date','Time','MinuteOfDay','LpFee','Pair','DateTime','_DELTA_DATETIME_MINUTES'], inplace=True)\n",
    "dfsmall.tail(1)"
   ]
  },
  {
   "cell_type": "markdown",
   "metadata": {},
   "source": [
    "# SAVE CALCULATED DF"
   ]
  },
  {
   "cell_type": "code",
   "execution_count": 212,
   "metadata": {},
   "outputs": [
    {
     "name": "stdout",
     "output_type": "stream",
     "text": [
      "D:\\ICARO\\Proyectos\\SeleniumSundaeSwap\\Calculated\\sundaeswap_calculated.csv\n",
      "Saved 2022-02-15 15:40:55.373628\n",
      "D:\\ICARO\\Proyectos\\SeleniumSundaeSwap\\Calculated\\sundaeswap_calculated_small.csv\n",
      "Saved small 2022-02-15 15:40:55.470384\n"
     ]
    }
   ],
   "source": [
    "if SAVE_CALCULATED_DF:\n",
    "    # dt_string = datetime.now().strftime(\"%Y_%m_%d__%H_%M_%S\")\n",
    "\n",
    "    filename= SAVE_CALCULATED_DF_PATH_BASE_FOLDER + '\\\\' + SAVE_CALCULATED_DF_PATH_BASE_FILENAME\n",
    "    print(filename)\n",
    "    df.to_csv(filename, index=False)\n",
    "    print('Saved', datetime.now())\n",
    "    \n",
    "    filename= SAVE_CALCULATED_DF_PATH_BASE_FOLDER + '\\\\' + SAVE_CALCULATED_SMALL_DF_PATH_BASE_FILENAME\n",
    "    print(filename)\n",
    "    dfsmall.to_csv(filename, index=False)\n",
    "    print('Saved small', datetime.now())"
   ]
  }
 ],
 "metadata": {
  "interpreter": {
   "hash": "7b4b4feff2f24a0f0a34464dbe537a36fda679851528fb8735cb41fa49dffb2d"
  },
  "kernelspec": {
   "display_name": "Python 3.8.8 64-bit ('base': conda)",
   "language": "python",
   "name": "python3"
  },
  "language_info": {
   "codemirror_mode": {
    "name": "ipython",
    "version": 3
   },
   "file_extension": ".py",
   "mimetype": "text/x-python",
   "name": "python",
   "nbconvert_exporter": "python",
   "pygments_lexer": "ipython3",
   "version": "3.8.8"
  },
  "orig_nbformat": 4
 },
 "nbformat": 4,
 "nbformat_minor": 2
}
