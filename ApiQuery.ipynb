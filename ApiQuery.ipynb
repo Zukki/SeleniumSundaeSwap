{
 "cells": [
  {
   "cell_type": "code",
   "execution_count": 28,
   "metadata": {},
   "outputs": [],
   "source": [
    "import requests\n",
    "#from requests.auth import HTTPDigestAuth\n",
    "import json\n",
    "import pandas as pd\n",
    "from datetime import date, datetime"
   ]
  },
  {
   "cell_type": "code",
   "execution_count": 29,
   "metadata": {},
   "outputs": [
    {
     "name": "stdout",
     "output_type": "stream",
     "text": [
      "200\n",
      "The response contains 38 properties\n"
     ]
    }
   ],
   "source": [
    "url = \"https://601fa5cgn2.execute-api.us-east-1.amazonaws.com/Dev/assets?asset=SUNDAE/ADA_0.3\"\n",
    "myResponse = requests.get(url)\n",
    "print (myResponse.status_code)\n",
    "jData = {}\n",
    "# For successful API call, response code will be 200 (OK)\n",
    "if(myResponse.ok):\n",
    "    jData = json.loads(myResponse.content)\n",
    "    print(\"The response contains {0} properties\".format(len(jData)))\n",
    "else:\n",
    "  # If response code is not ok (200), print the resulting http error code with description\n",
    "    myResponse.raise_for_status()\n"
   ]
  },
  {
   "cell_type": "code",
   "execution_count": 30,
   "metadata": {},
   "outputs": [
    {
     "data": {
      "text/plain": [
       "{'PairId': 'SUNDAE/ADA_0.3',\n",
       " 'Index': '15710',\n",
       " 'DateTimeUnix': '1645101939',\n",
       " 'PairPrice': '0.761656'}"
      ]
     },
     "execution_count": 30,
     "metadata": {},
     "output_type": "execute_result"
    }
   ],
   "source": [
    "jData[0]"
   ]
  },
  {
   "cell_type": "code",
   "execution_count": 31,
   "metadata": {},
   "outputs": [],
   "source": [
    "df = pd.DataFrame(jData, columns =['PairId','Index','DateTimeUnix','PairPrice'])\n",
    "df = df.set_index('Index')"
   ]
  },
  {
   "cell_type": "code",
   "execution_count": 32,
   "metadata": {},
   "outputs": [
    {
     "name": "stdout",
     "output_type": "stream",
     "text": [
      "<class 'pandas.core.frame.DataFrame'>\n",
      "Index: 38 entries, 15710 to 17480\n",
      "Data columns (total 3 columns):\n",
      " #   Column        Non-Null Count  Dtype \n",
      "---  ------        --------------  ----- \n",
      " 0   PairId        38 non-null     object\n",
      " 1   DateTimeUnix  38 non-null     object\n",
      " 2   PairPrice     38 non-null     object\n",
      "dtypes: object(3)\n",
      "memory usage: 1.2+ KB\n"
     ]
    }
   ],
   "source": [
    "df.info()"
   ]
  },
  {
   "cell_type": "code",
   "execution_count": 33,
   "metadata": {},
   "outputs": [
    {
     "name": "stdout",
     "output_type": "stream",
     "text": [
      "<class 'pandas.core.frame.DataFrame'>\n",
      "Index: 38 entries, 15710 to 17480\n",
      "Data columns (total 4 columns):\n",
      " #   Column        Non-Null Count  Dtype         \n",
      "---  ------        --------------  -----         \n",
      " 0   PairId        38 non-null     object        \n",
      " 1   DateTimeUnix  38 non-null     object        \n",
      " 2   PairPrice     38 non-null     float64       \n",
      " 3   DateTime      38 non-null     datetime64[ns]\n",
      "dtypes: datetime64[ns](1), float64(1), object(2)\n",
      "memory usage: 1.5+ KB\n"
     ]
    }
   ],
   "source": [
    "def datetimeFromUnix(ts:str):\n",
    "    return datetime.utcfromtimestamp(int(ts))\n",
    "\n",
    "df['PairPrice'] = df['PairPrice'].astype(float)\n",
    "df['DateTime'] = df['DateTimeUnix'].apply(datetimeFromUnix)\n",
    "df.info()"
   ]
  },
  {
   "cell_type": "code",
   "execution_count": 34,
   "metadata": {},
   "outputs": [
    {
     "data": {
      "text/html": [
       "<div>\n",
       "<style scoped>\n",
       "    .dataframe tbody tr th:only-of-type {\n",
       "        vertical-align: middle;\n",
       "    }\n",
       "\n",
       "    .dataframe tbody tr th {\n",
       "        vertical-align: top;\n",
       "    }\n",
       "\n",
       "    .dataframe thead th {\n",
       "        text-align: right;\n",
       "    }\n",
       "</style>\n",
       "<table border=\"1\" class=\"dataframe\">\n",
       "  <thead>\n",
       "    <tr style=\"text-align: right;\">\n",
       "      <th></th>\n",
       "      <th>PairId</th>\n",
       "      <th>DateTimeUnix</th>\n",
       "      <th>PairPrice</th>\n",
       "      <th>DateTime</th>\n",
       "    </tr>\n",
       "    <tr>\n",
       "      <th>Index</th>\n",
       "      <th></th>\n",
       "      <th></th>\n",
       "      <th></th>\n",
       "      <th></th>\n",
       "    </tr>\n",
       "  </thead>\n",
       "  <tbody>\n",
       "    <tr>\n",
       "      <th>15710</th>\n",
       "      <td>SUNDAE/ADA_0.3</td>\n",
       "      <td>1645101939</td>\n",
       "      <td>0.761656</td>\n",
       "      <td>2022-02-17 12:45:39</td>\n",
       "    </tr>\n",
       "    <tr>\n",
       "      <th>15760</th>\n",
       "      <td>SUNDAE/ADA_0.3</td>\n",
       "      <td>1645102839</td>\n",
       "      <td>0.761204</td>\n",
       "      <td>2022-02-17 13:00:39</td>\n",
       "    </tr>\n",
       "    <tr>\n",
       "      <th>15810</th>\n",
       "      <td>SUNDAE/ADA_0.3</td>\n",
       "      <td>1645103739</td>\n",
       "      <td>0.760911</td>\n",
       "      <td>2022-02-17 13:15:39</td>\n",
       "    </tr>\n",
       "    <tr>\n",
       "      <th>15860</th>\n",
       "      <td>SUNDAE/ADA_0.3</td>\n",
       "      <td>1645104639</td>\n",
       "      <td>0.756965</td>\n",
       "      <td>2022-02-17 13:30:39</td>\n",
       "    </tr>\n",
       "    <tr>\n",
       "      <th>15910</th>\n",
       "      <td>SUNDAE/ADA_0.3</td>\n",
       "      <td>1645105539</td>\n",
       "      <td>0.757644</td>\n",
       "      <td>2022-02-17 13:45:39</td>\n",
       "    </tr>\n",
       "  </tbody>\n",
       "</table>\n",
       "</div>"
      ],
      "text/plain": [
       "               PairId DateTimeUnix  PairPrice            DateTime\n",
       "Index                                                            \n",
       "15710  SUNDAE/ADA_0.3   1645101939   0.761656 2022-02-17 12:45:39\n",
       "15760  SUNDAE/ADA_0.3   1645102839   0.761204 2022-02-17 13:00:39\n",
       "15810  SUNDAE/ADA_0.3   1645103739   0.760911 2022-02-17 13:15:39\n",
       "15860  SUNDAE/ADA_0.3   1645104639   0.756965 2022-02-17 13:30:39\n",
       "15910  SUNDAE/ADA_0.3   1645105539   0.757644 2022-02-17 13:45:39"
      ]
     },
     "execution_count": 34,
     "metadata": {},
     "output_type": "execute_result"
    }
   ],
   "source": [
    "df.head(5)"
   ]
  }
 ],
 "metadata": {
  "interpreter": {
   "hash": "7b4b4feff2f24a0f0a34464dbe537a36fda679851528fb8735cb41fa49dffb2d"
  },
  "kernelspec": {
   "display_name": "Python 3.8.8 ('base')",
   "language": "python",
   "name": "python3"
  },
  "language_info": {
   "codemirror_mode": {
    "name": "ipython",
    "version": 3
   },
   "file_extension": ".py",
   "mimetype": "text/x-python",
   "name": "python",
   "nbconvert_exporter": "python",
   "pygments_lexer": "ipython3",
   "version": "3.8.8"
  },
  "orig_nbformat": 4
 },
 "nbformat": 4,
 "nbformat_minor": 2
}
