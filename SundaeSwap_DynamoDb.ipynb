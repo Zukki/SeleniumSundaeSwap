{
 "cells": [
  {
   "cell_type": "code",
   "execution_count": 138,
   "metadata": {},
   "outputs": [],
   "source": [
    "from pprint import pprint\n",
    "import boto3\n",
    "import pandas as pd\n",
    "from datetime import datetime, timedelta\n",
    "from boto3.dynamodb.conditions import Key, Attr\n",
    "import time"
   ]
  },
  {
   "cell_type": "markdown",
   "metadata": {},
   "source": [
    "# GLOBAL VARIABLES"
   ]
  },
  {
   "cell_type": "code",
   "execution_count": 118,
   "metadata": {},
   "outputs": [],
   "source": [
    "SAVE_CALCULATED_DF_PATH_BASE_FILENAME = 'sundaeswap_calculated_small.csv'\n",
    "SCRAPPED_FOLDER_PATH = 'D:\\ICARO\\Proyectos\\SeleniumSundaeSwap\\Calculated'\n",
    "BATCH_WRITE = True"
   ]
  },
  {
   "cell_type": "markdown",
   "metadata": {},
   "source": [
    "# GET DATA"
   ]
  },
  {
   "cell_type": "code",
   "execution_count": 119,
   "metadata": {},
   "outputs": [
    {
     "data": {
      "text/html": [
       "<div>\n",
       "<style scoped>\n",
       "    .dataframe tbody tr th:only-of-type {\n",
       "        vertical-align: middle;\n",
       "    }\n",
       "\n",
       "    .dataframe tbody tr th {\n",
       "        vertical-align: top;\n",
       "    }\n",
       "\n",
       "    .dataframe thead th {\n",
       "        text-align: right;\n",
       "    }\n",
       "</style>\n",
       "<table border=\"1\" class=\"dataframe\">\n",
       "  <thead>\n",
       "    <tr style=\"text-align: right;\">\n",
       "      <th></th>\n",
       "      <th>PairPrice</th>\n",
       "      <th>TotalAssetLocked</th>\n",
       "      <th>TotalAdaLocked</th>\n",
       "      <th>AdaVolume24hs</th>\n",
       "      <th>DateTimeUnix</th>\n",
       "      <th>_PAIR_ID</th>\n",
       "      <th>_DELTA_PAIRPRICE</th>\n",
       "      <th>_DELTA_TOTALASSETLOCKED</th>\n",
       "      <th>_DELTA_TOTALADALOCKED</th>\n",
       "      <th>_DELTA_DATETIME_SECONDS</th>\n",
       "    </tr>\n",
       "  </thead>\n",
       "  <tbody>\n",
       "    <tr>\n",
       "      <th>0</th>\n",
       "      <td>0.658510</td>\n",
       "      <td>21352876.90</td>\n",
       "      <td>14061097.46</td>\n",
       "      <td>1520497.36</td>\n",
       "      <td>1644722012</td>\n",
       "      <td>SUNDAE/ADA_0.3</td>\n",
       "      <td>NaN</td>\n",
       "      <td>NaN</td>\n",
       "      <td>NaN</td>\n",
       "      <td>NaN</td>\n",
       "    </tr>\n",
       "    <tr>\n",
       "      <th>1</th>\n",
       "      <td>85.410120</td>\n",
       "      <td>144162.15</td>\n",
       "      <td>12312906.74</td>\n",
       "      <td>635064.55</td>\n",
       "      <td>1644722012</td>\n",
       "      <td>LQ/ADA_0.3</td>\n",
       "      <td>NaN</td>\n",
       "      <td>NaN</td>\n",
       "      <td>NaN</td>\n",
       "      <td>NaN</td>\n",
       "    </tr>\n",
       "    <tr>\n",
       "      <th>2</th>\n",
       "      <td>0.785214</td>\n",
       "      <td>11970638.00</td>\n",
       "      <td>9399518.76</td>\n",
       "      <td>919539.05</td>\n",
       "      <td>1644722012</td>\n",
       "      <td>WMT/ADA_0.3</td>\n",
       "      <td>NaN</td>\n",
       "      <td>NaN</td>\n",
       "      <td>NaN</td>\n",
       "      <td>NaN</td>\n",
       "    </tr>\n",
       "  </tbody>\n",
       "</table>\n",
       "</div>"
      ],
      "text/plain": [
       "   PairPrice  TotalAssetLocked  TotalAdaLocked  AdaVolume24hs  DateTimeUnix  \\\n",
       "0   0.658510       21352876.90     14061097.46     1520497.36    1644722012   \n",
       "1  85.410120         144162.15     12312906.74      635064.55    1644722012   \n",
       "2   0.785214       11970638.00      9399518.76      919539.05    1644722012   \n",
       "\n",
       "         _PAIR_ID  _DELTA_PAIRPRICE  _DELTA_TOTALASSETLOCKED  \\\n",
       "0  SUNDAE/ADA_0.3               NaN                      NaN   \n",
       "1      LQ/ADA_0.3               NaN                      NaN   \n",
       "2     WMT/ADA_0.3               NaN                      NaN   \n",
       "\n",
       "   _DELTA_TOTALADALOCKED  _DELTA_DATETIME_SECONDS  \n",
       "0                    NaN                      NaN  \n",
       "1                    NaN                      NaN  \n",
       "2                    NaN                      NaN  "
      ]
     },
     "execution_count": 119,
     "metadata": {},
     "output_type": "execute_result"
    }
   ],
   "source": [
    "df = pd.read_csv(SCRAPPED_FOLDER_PATH+'\\\\'+SAVE_CALCULATED_DF_PATH_BASE_FILENAME, parse_dates=True)\n",
    "df.head(3)"
   ]
  },
  {
   "cell_type": "code",
   "execution_count": 120,
   "metadata": {},
   "outputs": [],
   "source": [
    "def unixToDatetime(ts: int):\n",
    "    return datetime.utcfromtimestamp(ts)\n",
    "\n",
    "dates = df['DateTimeUnix'].apply(unixToDatetime)\n",
    "df['DateTime'] = dates"
   ]
  },
  {
   "cell_type": "code",
   "execution_count": 53,
   "metadata": {},
   "outputs": [
    {
     "data": {
      "text/plain": [
       "array(['SUNDAE/ADA_0.3', 'LQ/ADA_0.3', 'WMT/ADA_0.3', 'MELD/ADA_0.3',\n",
       "       'PAVIA/ADA_0.3', 'XRAY/ADA_0.3', 'ADAX/ADA_0.3', 'AADA/ADA_0.3',\n",
       "       'VYFI/ADA_0.3', 'MILK/ADA_0.3', 'MINt/ADA_0.3', 'CLAP/ADA_0.3',\n",
       "       'CHRLZ/ADA_0.3', 'DANA/ADA_0.05', 'WMT/ADA_0.05', 'BISON/ADA_0.3',\n",
       "       'ASHIB/ADA_1.0', 'FIRE/ADA_0.3', 'HOSKY/ADA_0.3', 'MIN/ADA_0.3',\n",
       "       'cNETA/ADA_0.3', 'FLICK/ADA_0.3', 'CNFT/ADA_0.3', 'MELD/ADA_1.0',\n",
       "       'REVU/ADA_0.3', 'BDOGE/ADA_1.0', 'MONET/ADA_0.3',\n",
       "       'unsi…en/ADA_1.0', 'DRIP/ADA_1.0', 'MINt/ADA_0.05',\n",
       "       'SKULL/ADA_1.0', 'RAG/ADA_1.0', 'MIN/ADA_0.05', 'GOKEY/ADA_0.3',\n",
       "       'CDX/ADA_1.0', 'XDIA…ND/ADA_1.0', 'cMETA/ADA_0.3', 'RAVE/ADA_1.0',\n",
       "       'DANA/ADA_0.3', 'CARGO/ADA_0.3', 'MEOW/ADA_0.3', 'SHIBA/ADA_1.0',\n",
       "       'WMT/ADA_1.0', 'Card…rm/ADA_0.3', 'cbTHC/ADA_0.3',\n",
       "       'HOSKY/ADA_0.05', 'DRIP/ADA_0.3', 'FLANO/ADA_1.0', 'KIDZ/ADA_0.3',\n",
       "       'FIRE/ADA_1.0', 'YAY/ADA_1.0', 'QUID/ADA_0.3', 'SUNDAE/ADA_0.05',\n",
       "       'LQ/ADA_1.0', 'SUNDAE/ADA_1.0', 'LQ/ADA_0.05'], dtype=object)"
      ]
     },
     "execution_count": 53,
     "metadata": {},
     "output_type": "execute_result"
    }
   ],
   "source": [
    "df['_PAIR_ID'].unique()"
   ]
  },
  {
   "cell_type": "code",
   "execution_count": 121,
   "metadata": {},
   "outputs": [
    {
     "name": "stdout",
     "output_type": "stream",
     "text": [
      "198\n"
     ]
    },
    {
     "data": {
      "text/html": [
       "<div>\n",
       "<style scoped>\n",
       "    .dataframe tbody tr th:only-of-type {\n",
       "        vertical-align: middle;\n",
       "    }\n",
       "\n",
       "    .dataframe tbody tr th {\n",
       "        vertical-align: top;\n",
       "    }\n",
       "\n",
       "    .dataframe thead th {\n",
       "        text-align: right;\n",
       "    }\n",
       "</style>\n",
       "<table border=\"1\" class=\"dataframe\">\n",
       "  <thead>\n",
       "    <tr style=\"text-align: right;\">\n",
       "      <th></th>\n",
       "      <th>PairPrice</th>\n",
       "      <th>TotalAssetLocked</th>\n",
       "      <th>TotalAdaLocked</th>\n",
       "      <th>AdaVolume24hs</th>\n",
       "      <th>DateTimeUnix</th>\n",
       "      <th>_PAIR_ID</th>\n",
       "      <th>_DELTA_PAIRPRICE</th>\n",
       "      <th>_DELTA_TOTALASSETLOCKED</th>\n",
       "      <th>_DELTA_TOTALADALOCKED</th>\n",
       "      <th>_DELTA_DATETIME_SECONDS</th>\n",
       "      <th>DateTime</th>\n",
       "    </tr>\n",
       "  </thead>\n",
       "  <tbody>\n",
       "    <tr>\n",
       "      <th>17480</th>\n",
       "      <td>0.760128</td>\n",
       "      <td>26180036.81</td>\n",
       "      <td>19900181.84</td>\n",
       "      <td>1156399.69</td>\n",
       "      <td>1645135241</td>\n",
       "      <td>SUNDAE/ADA_0.3</td>\n",
       "      <td>-0.000726</td>\n",
       "      <td>12550.62</td>\n",
       "      <td>-9475.97</td>\n",
       "      <td>900.0</td>\n",
       "      <td>2022-02-17 22:00:41</td>\n",
       "    </tr>\n",
       "  </tbody>\n",
       "</table>\n",
       "</div>"
      ],
      "text/plain": [
       "       PairPrice  TotalAssetLocked  TotalAdaLocked  AdaVolume24hs  \\\n",
       "17480   0.760128       26180036.81     19900181.84     1156399.69   \n",
       "\n",
       "       DateTimeUnix        _PAIR_ID  _DELTA_PAIRPRICE  \\\n",
       "17480    1645135241  SUNDAE/ADA_0.3         -0.000726   \n",
       "\n",
       "       _DELTA_TOTALASSETLOCKED  _DELTA_TOTALADALOCKED  \\\n",
       "17480                 12550.62               -9475.97   \n",
       "\n",
       "       _DELTA_DATETIME_SECONDS            DateTime  \n",
       "17480                    900.0 2022-02-17 22:00:41  "
      ]
     },
     "execution_count": 121,
     "metadata": {},
     "output_type": "execute_result"
    }
   ],
   "source": [
    "pairId = 'SUNDAE/ADA_0.3'\n",
    "FILTER_DATE = datetime.fromisoformat('2022-02-13 12:00:00')\n",
    "FILTER_DATE = datetime.fromisoformat('2022-02-15 12:00:00')\n",
    "filter = (df['DateTime'] > FILTER_DATE) & (df['_PAIR_ID'] == pairId) #& (df['DateTimeUnix'] > 1645080041)\n",
    "\n",
    "print(len(df[filter]))\n",
    "row = df[df['_PAIR_ID']==pairId].tail(1)\n",
    "row"
   ]
  },
  {
   "cell_type": "markdown",
   "metadata": {},
   "source": [
    "# TO DYNAMO DB"
   ]
  },
  {
   "cell_type": "code",
   "execution_count": 55,
   "metadata": {},
   "outputs": [],
   "source": [
    "session = boto3.Session(region_name='us-east-1')\n",
    "dynamodb = session.resource('dynamodb')"
   ]
  },
  {
   "cell_type": "code",
   "execution_count": 122,
   "metadata": {},
   "outputs": [],
   "source": [
    "# table = dynamodb.Table('PythonTest')\n",
    "table = dynamodb.Table('SundaeSwapPrices')\n",
    "\n",
    "# response = table.put_item(Item=item)\n",
    "# pprint(response, sort_dicts=False)"
   ]
  },
  {
   "cell_type": "code",
   "execution_count": 125,
   "metadata": {},
   "outputs": [
    {
     "name": "stdout",
     "output_type": "stream",
     "text": [
      "BATCH START FOR PAIRS 6\n",
      "BATCH UPDATE START 198\n",
      "FOR SUNDAE/ADA_0.3\n",
      "BATCH UPDATE END\n",
      "BATCH UPDATE START 198\n",
      "FOR LQ/ADA_0.3\n",
      "BATCH UPDATE END\n",
      "BATCH UPDATE START 198\n",
      "FOR WMT/ADA_0.3\n",
      "BATCH UPDATE END\n",
      "BATCH UPDATE START 198\n",
      "FOR MELD/ADA_0.3\n",
      "BATCH UPDATE END\n",
      "BATCH UPDATE START 198\n",
      "FOR MILK/ADA_0.3\n",
      "BATCH UPDATE END\n",
      "BATCH UPDATE START 190\n",
      "FOR MIN/ADA_0.3\n",
      "BATCH UPDATE END\n",
      "BATCH END\n"
     ]
    }
   ],
   "source": [
    "if BATCH_WRITE:\n",
    "    pairIds = ['SUNDAE/ADA_0.3', 'LQ/ADA_0.3', 'WMT/ADA_0.3', 'MELD/ADA_0.3', 'MILK/ADA_0.3', 'MIN/ADA_0.3']\n",
    "    print('BATCH START FOR PAIRS', len(pairIds))\n",
    "    for pId in pairIds:\n",
    "        filter = (df['DateTime'] > FILTER_DATE) & (df['_PAIR_ID'] == pId)\n",
    "        print('BATCH UPDATE START', len(df[filter]))\n",
    "        print('FOR',pId)\n",
    "        with table.batch_writer() as batch:\n",
    "            for index, row in df[filter].iterrows():\n",
    "                # print(index,row['PairPrice'])\n",
    "                # batch.put_item(\n",
    "                #     Item={\n",
    "                #     'Id': index,\n",
    "                #     'IdSecond': pId+'_'+str(index),\n",
    "                #     'PairId': pId,\n",
    "                #     #'DateTimeUnix': str(row['DateTimeUnix']),\n",
    "                #     'DateTimeUnix': row['DateTimeUnix'],\n",
    "                #     'PairPrice': str(row['PairPrice']),\n",
    "                #     '_DELTA_DATETIME_SECONDS': str(row['_DELTA_DATETIME_SECONDS']),\n",
    "                #     '_DELTA_PAIRPRICE': str(row['_DELTA_PAIRPRICE'])\n",
    "                # })\n",
    "                batch.put_item(\n",
    "                    Item={\n",
    "                    'PairId': pId,\n",
    "                    'DateTimeUnix': row['DateTimeUnix'],\n",
    "                    'Index': index,\n",
    "                    'PairPrice': str(row['PairPrice'])\n",
    "                })\n",
    "        print('BATCH UPDATE END (sleep), last DateTimeUnix', df[filter].DateTimeUnix.max())\n",
    "        time.sleep(15)\n",
    "    print('BATCH END')\n"
   ]
  },
  {
   "cell_type": "code",
   "execution_count": 117,
   "metadata": {},
   "outputs": [
    {
     "data": {
      "text/plain": [
       "140"
      ]
     },
     "execution_count": 117,
     "metadata": {},
     "output_type": "execute_result"
    }
   ],
   "source": [
    "len(df[filter])"
   ]
  },
  {
   "cell_type": "code",
   "execution_count": 127,
   "metadata": {},
   "outputs": [
    {
     "name": "stdout",
     "output_type": "stream",
     "text": [
      "{'PairId': 'SUNDAE/ADA_0.3', 'Index': Decimal('17480'), 'DateTimeUnix': Decimal('1645135241'), 'PairPrice': '0.760128'}\n"
     ]
    }
   ],
   "source": [
    "response = table.get_item(\n",
    "    Key={\n",
    "        'PairId': 'SUNDAE/ADA_0.3',\n",
    "        'DateTimeUnix': 1645135241\n",
    "    }\n",
    ")\n",
    "item = response['Item']\n",
    "print(item)"
   ]
  },
  {
   "cell_type": "code",
   "execution_count": 149,
   "metadata": {},
   "outputs": [
    {
     "name": "stdout",
     "output_type": "stream",
     "text": [
      "1645095093\n",
      "<class 'str'>\n",
      "<class 'int'>\n",
      "2022-02-17 07:51:33.993874\n",
      "2022-02-17 19:51:33.994890\n"
     ]
    }
   ],
   "source": [
    "d = datetime.now() - timedelta(days=1, hours=0)\n",
    "unixtime = time.mktime(d.timetuple())\n",
    "ut = '{:.0f}'.format(unixtime)\n",
    "print(ut)\n",
    "print(type(ut))\n",
    "print(type(int(ut)))\n",
    "print(d)\n",
    "print(datetime.now())"
   ]
  },
  {
   "cell_type": "code",
   "execution_count": 140,
   "metadata": {},
   "outputs": [],
   "source": [
    "response = table.scan(\n",
    "    FilterExpression=Attr('PairId').eq('SUNDAE/ADA_0.3') & Attr('DateTimeUnix').gt(int(ut))\n",
    "    #FilterExpression=Attr(\"Date\").eq(date) & Attr(\"Shift\").eq(shift)\n",
    ")\n",
    "items = response['Items']"
   ]
  },
  {
   "cell_type": "code",
   "execution_count": 141,
   "metadata": {},
   "outputs": [
    {
     "name": "stdout",
     "output_type": "stream",
     "text": [
      "0\n",
      "[]\n"
     ]
    }
   ],
   "source": [
    "print(len(items))\n",
    "print(items)"
   ]
  },
  {
   "cell_type": "code",
   "execution_count": 144,
   "metadata": {},
   "outputs": [],
   "source": [
    "response = table.query(\n",
    "        KeyConditionExpression=Key('PairId').eq('SUNDAE/ADA_0.3') & Key('DateTimeUnix').gt(int(ut))\n",
    "    )\n",
    "items = response['Items']"
   ]
  },
  {
   "cell_type": "code",
   "execution_count": 145,
   "metadata": {},
   "outputs": [
    {
     "name": "stdout",
     "output_type": "stream",
     "text": [
      "92\n",
      "[{'PairId': 'SUNDAE/ADA_0.3', 'Index': Decimal('13210'), 'DateTimeUnix': Decimal('1645053367'), 'PairPrice': '0.744327'}, {'PairId': 'SUNDAE/ADA_0.3', 'Index': Decimal('13260'), 'DateTimeUnix': Decimal('1645054239'), 'PairPrice': '0.744327'}, {'PairId': 'SUNDAE/ADA_0.3', 'Index': Decimal('13310'), 'DateTimeUnix': Decimal('1645055135'), 'PairPrice': '0.744327'}, {'PairId': 'SUNDAE/ADA_0.3', 'Index': Decimal('13320'), 'DateTimeUnix': Decimal('1645056040'), 'PairPrice': '0.744327'}, {'PairId': 'SUNDAE/ADA_0.3', 'Index': Decimal('13370'), 'DateTimeUnix': Decimal('1645056942'), 'PairPrice': '0.744327'}, {'PairId': 'SUNDAE/ADA_0.3', 'Index': Decimal('13420'), 'DateTimeUnix': Decimal('1645057840'), 'PairPrice': '0.744327'}, {'PairId': 'SUNDAE/ADA_0.3', 'Index': Decimal('13470'), 'DateTimeUnix': Decimal('1645058741'), 'PairPrice': '0.744327'}, {'PairId': 'SUNDAE/ADA_0.3', 'Index': Decimal('13520'), 'DateTimeUnix': Decimal('1645059639'), 'PairPrice': '0.744327'}, {'PairId': 'SUNDAE/ADA_0.3', 'Index': Decimal('13570'), 'DateTimeUnix': Decimal('1645060534'), 'PairPrice': '0.744327'}, {'PairId': 'SUNDAE/ADA_0.3', 'Index': Decimal('13580'), 'DateTimeUnix': Decimal('1645061440'), 'PairPrice': '0.744327'}, {'PairId': 'SUNDAE/ADA_0.3', 'Index': Decimal('13630'), 'DateTimeUnix': Decimal('1645062339'), 'PairPrice': '0.744327'}, {'PairId': 'SUNDAE/ADA_0.3', 'Index': Decimal('13680'), 'DateTimeUnix': Decimal('1645063234'), 'PairPrice': '0.744327'}, {'PairId': 'SUNDAE/ADA_0.3', 'Index': Decimal('13690'), 'DateTimeUnix': Decimal('1645064141'), 'PairPrice': '0.744327'}, {'PairId': 'SUNDAE/ADA_0.3', 'Index': Decimal('13740'), 'DateTimeUnix': Decimal('1645065040'), 'PairPrice': '0.744327'}, {'PairId': 'SUNDAE/ADA_0.3', 'Index': Decimal('13790'), 'DateTimeUnix': Decimal('1645065941'), 'PairPrice': '0.744327'}, {'PairId': 'SUNDAE/ADA_0.3', 'Index': Decimal('13840'), 'DateTimeUnix': Decimal('1645066844'), 'PairPrice': '0.744327'}, {'PairId': 'SUNDAE/ADA_0.3', 'Index': Decimal('13890'), 'DateTimeUnix': Decimal('1645067739'), 'PairPrice': '0.744327'}, {'PairId': 'SUNDAE/ADA_0.3', 'Index': Decimal('13940'), 'DateTimeUnix': Decimal('1645068641'), 'PairPrice': '0.744327'}, {'PairId': 'SUNDAE/ADA_0.3', 'Index': Decimal('13990'), 'DateTimeUnix': Decimal('1645069542'), 'PairPrice': '0.744327'}, {'PairId': 'SUNDAE/ADA_0.3', 'Index': Decimal('14040'), 'DateTimeUnix': Decimal('1645070444'), 'PairPrice': '0.744327'}, {'PairId': 'SUNDAE/ADA_0.3', 'Index': Decimal('14090'), 'DateTimeUnix': Decimal('1645071336'), 'PairPrice': '0.744441'}, {'PairId': 'SUNDAE/ADA_0.3', 'Index': Decimal('14100'), 'DateTimeUnix': Decimal('1645072243'), 'PairPrice': '0.744544'}, {'PairId': 'SUNDAE/ADA_0.3', 'Index': Decimal('14150'), 'DateTimeUnix': Decimal('1645073146'), 'PairPrice': '0.744569'}, {'PairId': 'SUNDAE/ADA_0.3', 'Index': Decimal('14200'), 'DateTimeUnix': Decimal('1645074048'), 'PairPrice': '0.744663'}, {'PairId': 'SUNDAE/ADA_0.3', 'Index': Decimal('14250'), 'DateTimeUnix': Decimal('1645074946'), 'PairPrice': '0.745131'}, {'PairId': 'SUNDAE/ADA_0.3', 'Index': Decimal('14300'), 'DateTimeUnix': Decimal('1645075841'), 'PairPrice': '0.746342'}, {'PairId': 'SUNDAE/ADA_0.3', 'Index': Decimal('14350'), 'DateTimeUnix': Decimal('1645076733'), 'PairPrice': '0.746806'}, {'PairId': 'SUNDAE/ADA_0.3', 'Index': Decimal('14360'), 'DateTimeUnix': Decimal('1645077640'), 'PairPrice': '0.747421'}, {'PairId': 'SUNDAE/ADA_0.3', 'Index': Decimal('14410'), 'DateTimeUnix': Decimal('1645078541'), 'PairPrice': '0.74989'}, {'PairId': 'SUNDAE/ADA_0.3', 'Index': Decimal('14460'), 'DateTimeUnix': Decimal('1645079440'), 'PairPrice': '0.748222'}, {'PairId': 'SUNDAE/ADA_0.3', 'Index': Decimal('14510'), 'DateTimeUnix': Decimal('1645080339'), 'PairPrice': '0.748267'}, {'PairId': 'SUNDAE/ADA_0.3', 'Index': Decimal('14560'), 'DateTimeUnix': Decimal('1645081240'), 'PairPrice': '0.750479'}, {'PairId': 'SUNDAE/ADA_0.3', 'Index': Decimal('14610'), 'DateTimeUnix': Decimal('1645082139'), 'PairPrice': '0.752881'}, {'PairId': 'SUNDAE/ADA_0.3', 'Index': Decimal('14660'), 'DateTimeUnix': Decimal('1645083041'), 'PairPrice': '0.75449'}, {'PairId': 'SUNDAE/ADA_0.3', 'Index': Decimal('14710'), 'DateTimeUnix': Decimal('1645083939'), 'PairPrice': '0.756228'}, {'PairId': 'SUNDAE/ADA_0.3', 'Index': Decimal('14760'), 'DateTimeUnix': Decimal('1645084840'), 'PairPrice': '0.756061'}, {'PairId': 'SUNDAE/ADA_0.3', 'Index': Decimal('14810'), 'DateTimeUnix': Decimal('1645085739'), 'PairPrice': '0.757248'}, {'PairId': 'SUNDAE/ADA_0.3', 'Index': Decimal('14860'), 'DateTimeUnix': Decimal('1645086639'), 'PairPrice': '0.756957'}, {'PairId': 'SUNDAE/ADA_0.3', 'Index': Decimal('14910'), 'DateTimeUnix': Decimal('1645087539'), 'PairPrice': '0.757372'}, {'PairId': 'SUNDAE/ADA_0.3', 'Index': Decimal('14960'), 'DateTimeUnix': Decimal('1645088441'), 'PairPrice': '0.759733'}, {'PairId': 'SUNDAE/ADA_0.3', 'Index': Decimal('15010'), 'DateTimeUnix': Decimal('1645089339'), 'PairPrice': '0.760235'}, {'PairId': 'SUNDAE/ADA_0.3', 'Index': Decimal('15060'), 'DateTimeUnix': Decimal('1645090240'), 'PairPrice': '0.759469'}, {'PairId': 'SUNDAE/ADA_0.3', 'Index': Decimal('15110'), 'DateTimeUnix': Decimal('1645091140'), 'PairPrice': '0.760083'}, {'PairId': 'SUNDAE/ADA_0.3', 'Index': Decimal('15160'), 'DateTimeUnix': Decimal('1645092038'), 'PairPrice': '0.76068'}, {'PairId': 'SUNDAE/ADA_0.3', 'Index': Decimal('15210'), 'DateTimeUnix': Decimal('1645092940'), 'PairPrice': '0.75918'}, {'PairId': 'SUNDAE/ADA_0.3', 'Index': Decimal('15260'), 'DateTimeUnix': Decimal('1645093839'), 'PairPrice': '0.75967'}, {'PairId': 'SUNDAE/ADA_0.3', 'Index': Decimal('15310'), 'DateTimeUnix': Decimal('1645094740'), 'PairPrice': '0.759949'}, {'PairId': 'SUNDAE/ADA_0.3', 'Index': Decimal('15360'), 'DateTimeUnix': Decimal('1645095640'), 'PairPrice': '0.760812'}, {'PairId': 'SUNDAE/ADA_0.3', 'Index': Decimal('15410'), 'DateTimeUnix': Decimal('1645096539'), 'PairPrice': '0.758493'}, {'PairId': 'SUNDAE/ADA_0.3', 'Index': Decimal('15460'), 'DateTimeUnix': Decimal('1645097439'), 'PairPrice': '0.754662'}, {'PairId': 'SUNDAE/ADA_0.3', 'Index': Decimal('15510'), 'DateTimeUnix': Decimal('1645098339'), 'PairPrice': '0.759483'}, {'PairId': 'SUNDAE/ADA_0.3', 'Index': Decimal('15560'), 'DateTimeUnix': Decimal('1645099239'), 'PairPrice': '0.759953'}, {'PairId': 'SUNDAE/ADA_0.3', 'Index': Decimal('15610'), 'DateTimeUnix': Decimal('1645100139'), 'PairPrice': '0.759965'}, {'PairId': 'SUNDAE/ADA_0.3', 'Index': Decimal('15660'), 'DateTimeUnix': Decimal('1645101039'), 'PairPrice': '0.76022'}, {'PairId': 'SUNDAE/ADA_0.3', 'Index': Decimal('15710'), 'DateTimeUnix': Decimal('1645101939'), 'PairPrice': '0.761656'}, {'PairId': 'SUNDAE/ADA_0.3', 'Index': Decimal('15760'), 'DateTimeUnix': Decimal('1645102839'), 'PairPrice': '0.761204'}, {'PairId': 'SUNDAE/ADA_0.3', 'Index': Decimal('15810'), 'DateTimeUnix': Decimal('1645103739'), 'PairPrice': '0.760911'}, {'PairId': 'SUNDAE/ADA_0.3', 'Index': Decimal('15860'), 'DateTimeUnix': Decimal('1645104639'), 'PairPrice': '0.756965'}, {'PairId': 'SUNDAE/ADA_0.3', 'Index': Decimal('15910'), 'DateTimeUnix': Decimal('1645105539'), 'PairPrice': '0.757644'}, {'PairId': 'SUNDAE/ADA_0.3', 'Index': Decimal('15960'), 'DateTimeUnix': Decimal('1645106439'), 'PairPrice': '0.756479'}, {'PairId': 'SUNDAE/ADA_0.3', 'Index': Decimal('16010'), 'DateTimeUnix': Decimal('1645107333'), 'PairPrice': '0.75617'}, {'PairId': 'SUNDAE/ADA_0.3', 'Index': Decimal('16020'), 'DateTimeUnix': Decimal('1645108239'), 'PairPrice': '0.755756'}, {'PairId': 'SUNDAE/ADA_0.3', 'Index': Decimal('16070'), 'DateTimeUnix': Decimal('1645109139'), 'PairPrice': '0.75615'}, {'PairId': 'SUNDAE/ADA_0.3', 'Index': Decimal('16120'), 'DateTimeUnix': Decimal('1645110039'), 'PairPrice': '0.756326'}, {'PairId': 'SUNDAE/ADA_0.3', 'Index': Decimal('16170'), 'DateTimeUnix': Decimal('1645110940'), 'PairPrice': '0.756394'}, {'PairId': 'SUNDAE/ADA_0.3', 'Index': Decimal('16220'), 'DateTimeUnix': Decimal('1645111839'), 'PairPrice': '0.756526'}, {'PairId': 'SUNDAE/ADA_0.3', 'Index': Decimal('16270'), 'DateTimeUnix': Decimal('1645112740'), 'PairPrice': '0.756887'}, {'PairId': 'SUNDAE/ADA_0.3', 'Index': Decimal('16320'), 'DateTimeUnix': Decimal('1645113639'), 'PairPrice': '0.756728'}, {'PairId': 'SUNDAE/ADA_0.3', 'Index': Decimal('16370'), 'DateTimeUnix': Decimal('1645114539'), 'PairPrice': '0.756542'}, {'PairId': 'SUNDAE/ADA_0.3', 'Index': Decimal('16420'), 'DateTimeUnix': Decimal('1645115439'), 'PairPrice': '0.757094'}, {'PairId': 'SUNDAE/ADA_0.3', 'Index': Decimal('16470'), 'DateTimeUnix': Decimal('1645116341'), 'PairPrice': '0.757296'}, {'PairId': 'SUNDAE/ADA_0.3', 'Index': Decimal('16520'), 'DateTimeUnix': Decimal('1645117240'), 'PairPrice': '0.755042'}, {'PairId': 'SUNDAE/ADA_0.3', 'Index': Decimal('16570'), 'DateTimeUnix': Decimal('1645118139'), 'PairPrice': '0.755168'}, {'PairId': 'SUNDAE/ADA_0.3', 'Index': Decimal('16620'), 'DateTimeUnix': Decimal('1645119040'), 'PairPrice': '0.755576'}, {'PairId': 'SUNDAE/ADA_0.3', 'Index': Decimal('16670'), 'DateTimeUnix': Decimal('1645119939'), 'PairPrice': '0.754627'}, {'PairId': 'SUNDAE/ADA_0.3', 'Index': Decimal('16720'), 'DateTimeUnix': Decimal('1645120841'), 'PairPrice': '0.754725'}, {'PairId': 'SUNDAE/ADA_0.3', 'Index': Decimal('16770'), 'DateTimeUnix': Decimal('1645121739'), 'PairPrice': '0.754814'}, {'PairId': 'SUNDAE/ADA_0.3', 'Index': Decimal('16820'), 'DateTimeUnix': Decimal('1645122640'), 'PairPrice': '0.754804'}, {'PairId': 'SUNDAE/ADA_0.3', 'Index': Decimal('16870'), 'DateTimeUnix': Decimal('1645123539'), 'PairPrice': '0.755027'}, {'PairId': 'SUNDAE/ADA_0.3', 'Index': Decimal('16920'), 'DateTimeUnix': Decimal('1645124433'), 'PairPrice': '0.755027'}, {'PairId': 'SUNDAE/ADA_0.3', 'Index': Decimal('16930'), 'DateTimeUnix': Decimal('1645125339'), 'PairPrice': '0.75507'}, {'PairId': 'SUNDAE/ADA_0.3', 'Index': Decimal('16980'), 'DateTimeUnix': Decimal('1645126240'), 'PairPrice': '0.755083'}, {'PairId': 'SUNDAE/ADA_0.3', 'Index': Decimal('17030'), 'DateTimeUnix': Decimal('1645127140'), 'PairPrice': '0.755333'}, {'PairId': 'SUNDAE/ADA_0.3', 'Index': Decimal('17080'), 'DateTimeUnix': Decimal('1645128039'), 'PairPrice': '0.755351'}, {'PairId': 'SUNDAE/ADA_0.3', 'Index': Decimal('17130'), 'DateTimeUnix': Decimal('1645128939'), 'PairPrice': '0.755261'}, {'PairId': 'SUNDAE/ADA_0.3', 'Index': Decimal('17180'), 'DateTimeUnix': Decimal('1645129839'), 'PairPrice': '0.755194'}, {'PairId': 'SUNDAE/ADA_0.3', 'Index': Decimal('17230'), 'DateTimeUnix': Decimal('1645130741'), 'PairPrice': '0.755196'}, {'PairId': 'SUNDAE/ADA_0.3', 'Index': Decimal('17280'), 'DateTimeUnix': Decimal('1645131639'), 'PairPrice': '0.755202'}, {'PairId': 'SUNDAE/ADA_0.3', 'Index': Decimal('17330'), 'DateTimeUnix': Decimal('1645132539'), 'PairPrice': '0.760952'}, {'PairId': 'SUNDAE/ADA_0.3', 'Index': Decimal('17380'), 'DateTimeUnix': Decimal('1645133440'), 'PairPrice': '0.760841'}, {'PairId': 'SUNDAE/ADA_0.3', 'Index': Decimal('17430'), 'DateTimeUnix': Decimal('1645134340'), 'PairPrice': '0.760854'}, {'PairId': 'SUNDAE/ADA_0.3', 'Index': Decimal('17480'), 'DateTimeUnix': Decimal('1645135241'), 'PairPrice': '0.760128'}]\n"
     ]
    }
   ],
   "source": [
    "print(len(items))\n",
    "print(items)"
   ]
  }
 ],
 "metadata": {
  "interpreter": {
   "hash": "7b4b4feff2f24a0f0a34464dbe537a36fda679851528fb8735cb41fa49dffb2d"
  },
  "kernelspec": {
   "display_name": "Python 3.8.8 ('base')",
   "language": "python",
   "name": "python3"
  },
  "language_info": {
   "codemirror_mode": {
    "name": "ipython",
    "version": 3
   },
   "file_extension": ".py",
   "mimetype": "text/x-python",
   "name": "python",
   "nbconvert_exporter": "python",
   "pygments_lexer": "ipython3",
   "version": "3.8.8"
  },
  "orig_nbformat": 4
 },
 "nbformat": 4,
 "nbformat_minor": 2
}
